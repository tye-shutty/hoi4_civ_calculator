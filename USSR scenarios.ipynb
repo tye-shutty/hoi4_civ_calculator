{
 "cells": [
  {
   "cell_type": "code",
   "execution_count": 1,
   "metadata": {},
   "outputs": [
    {
     "name": "stdout",
     "output_type": "stream",
     "text": [
      "diff -20\n"
     ]
    }
   ],
   "source": [
    "import hoi4_civ_calculator as calc\n",
    "\n",
    "speed_mod = [(1, 1.1), (154,1.15), (272,1.25), (int(27*30.42),1.35)]\n",
    "unique_spd_mod = {'civ': [(1,-0.3), (140,.1), (210,.2), (int(29*30.42),0)], \n",
    "                  #hire advisor month 5, fire advisor month 30\n",
    "                  'civ_con': [(1,-0.3), (140,.1), (210,.2), (int(18*30.42),.3), (int(29*30.42),.2)],\n",
    "                  'mil': [(1,-0.3), (178,.45), (210,.55), (int(18*30.42),.65)],\n",
    "                  'mil_con': [(1,-0.3), (178,.45), (210,.55), (int(18*30.42),.85)], \n",
    "                  #many mil bonuses also apply -add them here too\n",
    "                  'ref': [(1,.15), (140,.25), (int(29*30.42),.15)],\n",
    "                  'inf': [(1,0), (140,.1), (int(29*30.42),0)],\n",
    "                  'doc': [(1,.25), (178,.35), (210,.45)]} # these are all added to speed_mod\n",
    "unique_cost_mod = {'civ': [(1,1)], # these are the total mods\n",
    "                  'civ_con': [(1,1.3), (int(18*30.42),0.8)],\n",
    "                  'mil': [(1,1)],\n",
    "                  'mil_con': [(1,1.3), (int(18*30.42),0.8)],\n",
    "                  'ref': [(1,1)],\n",
    "                  'inf': [(1,1)],\n",
    "                  'doc': [(1,1)]}\n",
    "free_stuff = {'civ': {71:4, calc.ymd_to_day(1936,'dec',17):6, \n",
    "                      int(26*30.42):12, int(29*30.42):3, int(33*30.42):8}, \n",
    "              # in case of conquering or focus #Austria & czech civ guess\n",
    "              #not sure about trade\n",
    "              'mil': {int(15*30.42):6, int(26*30.42):7, int(29*30.42):3, int(33*30.42):5}, \n",
    "              #key is day had thing at end of day\n",
    "              'ref': {},\n",
    "              'inf': {calc.ymd_to_day(1937,'feb',25):{'brandenburg': 2, 'hannover': 3, 'thuringen': 4, 'franken': 3}},\n",
    "              'doc': {}}\n",
    "trade  = {1: 1}\n",
    "space_mod = [(1,1), (262,1.2), (int(18*30.42),1.4), (int(37*30.42),1.6)] \n",
    "#ind tech for max factories\n",
    "    \n",
    "con_goods = [(1,0.35), (int(15*30.42),0.118)] #1st val is first day ending with the change\n",
    "#also depends on stab\n",
    "daily_reports = [{'civ': 32, 'mil': 28, 'ref': 0, 'doc': 10, 'goods': 9}]\n",
    "\n",
    "#state, inf mod, max fact, present fact\n",
    "inf = {'moselland': [1.7, 10, 3],'rhineland': [1.8, 10, 5], 'brandenburg': [1.8, 12, 9],\n",
    "       'wurttemberg': [1.8, 8, 6],'sachsen': [1.7, 10, 9],'hannover': [1.7, 8, 5]\n",
    "       ,'thuringen': [1.6, 8, 1],'franken': [1.7, 6, 2], 'westfalen': [1.8, 8, 4],\n",
    "       'hessen': [1.7, 8, 3], 'oberbayern': [1.7, 6, 3], 'niederbayern': [1.6, 6, 0],\n",
    "      'niederschlesien': [1.6, 8, 1], 'oberschlesien': [1.6, 6, 0], 'ermland-masuren': [1.6, 4, 0],\n",
    "      'konigsberg': [1.6, 6, 2]} \n",
    "#where is this in game files?\n",
    "\n",
    "#duplicates will be grouped together unless there's no space left in state \n",
    "con_queue = calc.make_queue([(('civ_con', 'rhineland'),1),(('mil', 'moselland'),9),\n",
    "              (('mil', 'rhineland'),6),(('mil', 'wurttemberg'),3),(('mil','westfalen'),5),\n",
    "              (('mil','hessen'),6),\n",
    "              (('mil','sachsen'),3),(('mil','brandenburg'),5),(('mil','hannover'),5),\n",
    "              (('mil','thuringen'),9),(('mil','franken'),5),(('mil','oberbayern'),4),\n",
    "              (('mil','niederbayern'),7),(('mil','niederschlesien'),9),(('mil','oberschlesien'),7),\n",
    "              (('mil','ermland-masuren'),4),(('mil','konigsberg'),5)])\n",
    "final_day = 365*3 #runs this long\n",
    "\n",
    "civ_con_mil =calc.calculate(daily_reports, con_queue, inf, final_day, speed_mod, unique_spd_mod,\n",
    "                            unique_cost_mod, free_stuff, trade, space_mod, con_goods, False)"
   ]
  },
  {
   "cell_type": "code",
   "execution_count": 4,
   "metadata": {},
   "outputs": [
    {
     "data": {
      "text/plain": [
       "456"
      ]
     },
     "execution_count": 4,
     "metadata": {},
     "output_type": "execute_result"
    }
   ],
   "source": [
    "calc.ymd_to_day(1937, 'apr', 2)"
   ]
  },
  {
   "cell_type": "code",
   "execution_count": 5,
   "metadata": {},
   "outputs": [
    {
     "data": {
      "text/plain": [
       "456"
      ]
     },
     "execution_count": 5,
     "metadata": {},
     "output_type": "execute_result"
    }
   ],
   "source": [
    "int(15*30.42)"
   ]
  },
  {
   "cell_type": "code",
   "execution_count": null,
   "metadata": {},
   "outputs": [],
   "source": []
  }
 ],
 "metadata": {
  "kernelspec": {
   "display_name": "Python 3",
   "language": "python",
   "name": "python3"
  },
  "language_info": {
   "codemirror_mode": {
    "name": "ipython",
    "version": 3
   },
   "file_extension": ".py",
   "mimetype": "text/x-python",
   "name": "python",
   "nbconvert_exporter": "python",
   "pygments_lexer": "ipython3",
   "version": "3.7.6"
  }
 },
 "nbformat": 4,
 "nbformat_minor": 4
}
